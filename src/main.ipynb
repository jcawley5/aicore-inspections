{
    "cells": [
        {
            "cell_type": "code",
            "execution_count": 1,
            "metadata": {},
            "outputs": [],
            "source": [
                "import json\n",
                "import requests\n",
                "import time\n",
                "import yaml\n",
                "from IPython.display import clear_output\n",
                "from pprint import pprint\n",
                "\n",
                "from ai_api_client_sdk.ai_api_v2_client import AIAPIV2Client\n",
                "from ai_api_client_sdk.models.artifact import Artifact\n",
                "from ai_api_client_sdk.models.status import Status\n",
                "from ai_api_client_sdk.models.target_status import TargetStatus\n",
                "from ai_api_client_sdk.models.input_artifact_binding import InputArtifactBinding"
            ]
        },
        {
            "cell_type": "code",
            "execution_count": 2,
            "metadata": {},
            "outputs": [],
            "source": [
                "# Setup\n",
                "aic_service_key_path = '../resources/aic_service_key.json'\n",
                "git_setup_file_path = \"../resources/git_setup.json\"\n",
                "docker_secret_file_path = '../resources/docker_secret.json'\n",
                "resource_group = \"restaurant-inspections\"\n",
                "s3_service_key_path = '../resources/s3_service_key.json'\n",
                "training_workflow_file = '../workflows/train.yaml'\n",
                "serving_workflow_file = '../workflows/serve.yaml'\n",
                "connection_name = \"default\"\n",
                "path_prefix = \"app\""
            ]
        },
        {
            "cell_type": "markdown",
            "metadata": {},
            "source": [
                "# Manage the ML lifecycle in the cloud using AI Core and AI Core Python SDK"
            ]
        },
        {
            "cell_type": "markdown",
            "metadata": {},
            "source": [
                "### Connect to your AI Core instance"
            ]
        },
        {
            "cell_type": "code",
            "execution_count": 3,
            "metadata": {},
            "outputs": [],
            "source": [
                "with open(aic_service_key_path) as ask:\n",
                "    aic_service_key = json.load(ask)\n",
                "\n",
                "# AI API client that talks to the AI Core instance.\n",
                "ai_api_client = AIAPIV2Client(\n",
                "    base_url = aic_service_key[\"serviceurls\"][\"AI_API_URL\"] + \"/v2\", # The present AI API version is 2\n",
                "    auth_url=  aic_service_key[\"url\"] + \"/oauth/token\",\n",
                "    client_id = aic_service_key['clientid'],\n",
                "    client_secret = aic_service_key['clientsecret']\n",
                ")"
            ]
        },
        {
            "cell_type": "markdown",
            "metadata": {},
            "source": [
                "### Onboard your Git repository that contains the templates"
            ]
        },
        {
            "cell_type": "code",
            "execution_count": 7,
            "metadata": {},
            "outputs": [
                {
                    "ename": "AIAPIServerException",
                    "evalue": "Failed to post /admin/repositories: A repository with name 'aicore-inspections' already exists",
                    "output_type": "error",
                    "traceback": [
                        "\u001b[0;31m---------------------------------------------------------------------------\u001b[0m",
                        "\u001b[0;31mAIAPIServerException\u001b[0m                      Traceback (most recent call last)",
                        "Cell \u001b[0;32mIn[7], line 6\u001b[0m\n\u001b[1;32m      2\u001b[0m \t\tsetup_json \u001b[38;5;241m=\u001b[39m json\u001b[38;5;241m.\u001b[39mload(gs)\n\u001b[1;32m      4\u001b[0m repo_json \u001b[38;5;241m=\u001b[39m setup_json[\u001b[38;5;124m\"\u001b[39m\u001b[38;5;124mrepo\u001b[39m\u001b[38;5;124m\"\u001b[39m]\n\u001b[0;32m----> 6\u001b[0m response \u001b[38;5;241m=\u001b[39m ai_api_client\u001b[38;5;241m.\u001b[39mrest_client\u001b[38;5;241m.\u001b[39mpost(\n\u001b[1;32m      7\u001b[0m \t\tpath\u001b[38;5;241m=\u001b[39m\u001b[38;5;124m\"\u001b[39m\u001b[38;5;124m/admin/repositories\u001b[39m\u001b[38;5;124m\"\u001b[39m,\n\u001b[1;32m      8\u001b[0m \t\tbody\u001b[38;5;241m=\u001b[39m{\n\u001b[1;32m      9\u001b[0m \t\t\t\t\u001b[38;5;124m\"\u001b[39m\u001b[38;5;124mname\u001b[39m\u001b[38;5;124m\"\u001b[39m: repo_json[\u001b[38;5;124m\"\u001b[39m\u001b[38;5;124mname\u001b[39m\u001b[38;5;124m\"\u001b[39m],\n\u001b[1;32m     10\u001b[0m \t\t\t\t\u001b[38;5;124m\"\u001b[39m\u001b[38;5;124murl\u001b[39m\u001b[38;5;124m\"\u001b[39m: repo_json[\u001b[38;5;124m\"\u001b[39m\u001b[38;5;124murl\u001b[39m\u001b[38;5;124m\"\u001b[39m],\n\u001b[1;32m     11\u001b[0m \t\t\t\t\u001b[38;5;124m\"\u001b[39m\u001b[38;5;124musername\u001b[39m\u001b[38;5;124m\"\u001b[39m: repo_json[\u001b[38;5;124m\"\u001b[39m\u001b[38;5;124musername\u001b[39m\u001b[38;5;124m\"\u001b[39m],\n\u001b[1;32m     12\u001b[0m \t\t\t\t\u001b[38;5;124m\"\u001b[39m\u001b[38;5;124mpassword\u001b[39m\u001b[38;5;124m\"\u001b[39m: repo_json[\u001b[38;5;124m\"\u001b[39m\u001b[38;5;124mpassword\u001b[39m\u001b[38;5;124m\"\u001b[39m]\n\u001b[1;32m     13\u001b[0m \t\t}\n\u001b[1;32m     14\u001b[0m )\n\u001b[1;32m     15\u001b[0m \u001b[38;5;28mprint\u001b[39m(response)\n",
                        "File \u001b[0;32m/opt/homebrew/lib/python3.11/site-packages/ai_api_client_sdk/helpers/rest_client.py:108\u001b[0m, in \u001b[0;36mRestClient.post\u001b[0;34m(self, path, body, resource_group)\u001b[0m\n\u001b[1;32m     83\u001b[0m \u001b[38;5;28;01mdef\u001b[39;00m \u001b[38;5;21mpost\u001b[39m(\u001b[38;5;28mself\u001b[39m, path: \u001b[38;5;28mstr\u001b[39m, body: Dict[\u001b[38;5;28mstr\u001b[39m, Union[\u001b[38;5;28mstr\u001b[39m, \u001b[38;5;28mdict\u001b[39m]] \u001b[38;5;241m=\u001b[39m \u001b[38;5;28;01mNone\u001b[39;00m, resource_group: \u001b[38;5;28mstr\u001b[39m \u001b[38;5;241m=\u001b[39m \u001b[38;5;28;01mNone\u001b[39;00m) \u001b[38;5;241m-\u001b[39m\u001b[38;5;241m>\u001b[39m \u001b[38;5;28mdict\u001b[39m:\n\u001b[1;32m     84\u001b[0m     \u001b[38;5;124;03m\"\"\"Sends a POST request to the server.\u001b[39;00m\n\u001b[1;32m     85\u001b[0m \n\u001b[1;32m     86\u001b[0m \u001b[38;5;124;03m    :param path: path of the endpoint the request should be sent to\u001b[39;00m\n\u001b[0;32m   (...)\u001b[0m\n\u001b[1;32m    106\u001b[0m \u001b[38;5;124;03m    :rtype: dict\u001b[39;00m\n\u001b[1;32m    107\u001b[0m \u001b[38;5;124;03m    \"\"\"\u001b[39;00m\n\u001b[0;32m--> 108\u001b[0m     \u001b[38;5;28;01mreturn\u001b[39;00m \u001b[38;5;28mself\u001b[39m\u001b[38;5;241m.\u001b[39m_handle_request(\u001b[38;5;124m'\u001b[39m\u001b[38;5;124mpost\u001b[39m\u001b[38;5;124m'\u001b[39m, path\u001b[38;5;241m=\u001b[39mpath, body_json\u001b[38;5;241m=\u001b[39mbody, resource_group\u001b[38;5;241m=\u001b[39mresource_group)\n",
                        "File \u001b[0;32m/opt/homebrew/lib/python3.11/site-packages/ai_api_client_sdk/helpers/rest_client.py:75\u001b[0m, in \u001b[0;36mRestClient._handle_request\u001b[0;34m(self, method, path, params, body_json, resource_group)\u001b[0m\n\u001b[1;32m     71\u001b[0m         \u001b[38;5;28;01mraise\u001b[39;00m AIAPIPreconditionFailedException(description\u001b[38;5;241m=\u001b[39merror_description, error_message\u001b[38;5;241m=\u001b[39merror_message,\n\u001b[1;32m     72\u001b[0m                                                error_code\u001b[38;5;241m=\u001b[39merror_code, request_id\u001b[38;5;241m=\u001b[39mrequest_id,\n\u001b[1;32m     73\u001b[0m                                                details\u001b[38;5;241m=\u001b[39merror_details)\n\u001b[1;32m     74\u001b[0m     \u001b[38;5;28;01melse\u001b[39;00m:\n\u001b[0;32m---> 75\u001b[0m         \u001b[38;5;28;01mraise\u001b[39;00m AIAPIServerException(status_code\u001b[38;5;241m=\u001b[39mstatus_code, description\u001b[38;5;241m=\u001b[39merror_description,\n\u001b[1;32m     76\u001b[0m                                    error_message\u001b[38;5;241m=\u001b[39merror_message, error_code\u001b[38;5;241m=\u001b[39merror_code, request_id\u001b[38;5;241m=\u001b[39mrequest_id,\n\u001b[1;32m     77\u001b[0m                                    details\u001b[38;5;241m=\u001b[39merror_details)\n\u001b[1;32m     78\u001b[0m \u001b[38;5;28;01melif\u001b[39;00m response\u001b[38;5;241m.\u001b[39mstatus_code \u001b[38;5;241m/\u001b[39m\u001b[38;5;241m/\u001b[39m \u001b[38;5;241m100\u001b[39m \u001b[38;5;241m!=\u001b[39m \u001b[38;5;241m2\u001b[39m:\n\u001b[1;32m     79\u001b[0m     \u001b[38;5;28;01mraise\u001b[39;00m AIAPIServerException(description\u001b[38;5;241m=\u001b[39merror_description, error_message\u001b[38;5;241m=\u001b[39mresponse\u001b[38;5;241m.\u001b[39mtext,\n\u001b[1;32m     80\u001b[0m                                status_code\u001b[38;5;241m=\u001b[39mresponse\u001b[38;5;241m.\u001b[39mstatus_code)\n",
                        "\u001b[0;31mAIAPIServerException\u001b[0m: Failed to post /admin/repositories: A repository with name 'aicore-inspections' already exists"
                    ]
                }
            ],
            "source": [
                "with open(git_setup_file_path) as gs:\n",
                "\t\tsetup_json = json.load(gs)\n",
                "\n",
                "repo_json = setup_json[\"repo\"]\n",
                "\n",
                "response = ai_api_client.rest_client.post(\n",
                "\t\tpath=\"/admin/repositories\",\n",
                "\t\tbody={\n",
                "\t\t\t\t\"name\": repo_json[\"name\"],\n",
                "\t\t\t\t\"url\": repo_json[\"url\"],\n",
                "\t\t\t\t\"username\": repo_json[\"username\"],\n",
                "\t\t\t\t\"password\": repo_json[\"password\"]\n",
                "\t\t}\n",
                ")\n",
                "print(response)"
            ]
        },
        {
            "cell_type": "markdown",
            "metadata": {},
            "source": [
                "### Register an application"
            ]
        },
        {
            "cell_type": "code",
            "execution_count": 9,
            "metadata": {},
            "outputs": [
                {
                    "ename": "AIAPIInvalidRequestException",
                    "evalue": "Failed to post /admin/applications: {'applicationName': 'AICORE-INSPECTIONS', 'repositoryUrl': 'https://github.com/jcawley5/aicore-inspections', 'revision': 'HEAD', 'path': 'workflows'} is not valid under any of the given schemas",
                    "output_type": "error",
                    "traceback": [
                        "\u001b[0;31m---------------------------------------------------------------------------\u001b[0m",
                        "\u001b[0;31mAIAPIInvalidRequestException\u001b[0m              Traceback (most recent call last)",
                        "Cell \u001b[0;32mIn[9], line 2\u001b[0m\n\u001b[1;32m      1\u001b[0m app_json \u001b[38;5;241m=\u001b[39m setup_json[\u001b[38;5;124m\"\u001b[39m\u001b[38;5;124mapp\u001b[39m\u001b[38;5;124m\"\u001b[39m]\n\u001b[0;32m----> 2\u001b[0m response \u001b[38;5;241m=\u001b[39m ai_api_client\u001b[38;5;241m.\u001b[39mrest_client\u001b[38;5;241m.\u001b[39mpost(\n\u001b[1;32m      3\u001b[0m \t\tpath\u001b[38;5;241m=\u001b[39m\u001b[38;5;124m\"\u001b[39m\u001b[38;5;124m/admin/applications\u001b[39m\u001b[38;5;124m\"\u001b[39m,\n\u001b[1;32m      4\u001b[0m \t\tbody\u001b[38;5;241m=\u001b[39m{\n\u001b[1;32m      5\u001b[0m \t\t\t\t\u001b[38;5;124m\"\u001b[39m\u001b[38;5;124mapplicationName\u001b[39m\u001b[38;5;124m\"\u001b[39m: app_json[\u001b[38;5;124m\"\u001b[39m\u001b[38;5;124mapplicationName\u001b[39m\u001b[38;5;124m\"\u001b[39m],\n\u001b[1;32m      6\u001b[0m \t\t\t\t\u001b[38;5;124m\"\u001b[39m\u001b[38;5;124mrepositoryUrl\u001b[39m\u001b[38;5;124m\"\u001b[39m: app_json[\u001b[38;5;124m\"\u001b[39m\u001b[38;5;124mrepositoryUrl\u001b[39m\u001b[38;5;124m\"\u001b[39m],\n\u001b[1;32m      7\u001b[0m \t\t\t\t\u001b[38;5;124m\"\u001b[39m\u001b[38;5;124mrevision\u001b[39m\u001b[38;5;124m\"\u001b[39m: app_json[\u001b[38;5;124m\"\u001b[39m\u001b[38;5;124mrevision\u001b[39m\u001b[38;5;124m\"\u001b[39m],\n\u001b[1;32m      8\u001b[0m \t\t\t\t\u001b[38;5;124m\"\u001b[39m\u001b[38;5;124mpath\u001b[39m\u001b[38;5;124m\"\u001b[39m: app_json[\u001b[38;5;124m\"\u001b[39m\u001b[38;5;124mpath\u001b[39m\u001b[38;5;124m\"\u001b[39m]\n\u001b[1;32m      9\u001b[0m \t\t}\n\u001b[1;32m     10\u001b[0m )\n",
                        "File \u001b[0;32m/opt/homebrew/lib/python3.11/site-packages/ai_api_client_sdk/helpers/rest_client.py:108\u001b[0m, in \u001b[0;36mRestClient.post\u001b[0;34m(self, path, body, resource_group)\u001b[0m\n\u001b[1;32m     83\u001b[0m \u001b[38;5;28;01mdef\u001b[39;00m \u001b[38;5;21mpost\u001b[39m(\u001b[38;5;28mself\u001b[39m, path: \u001b[38;5;28mstr\u001b[39m, body: Dict[\u001b[38;5;28mstr\u001b[39m, Union[\u001b[38;5;28mstr\u001b[39m, \u001b[38;5;28mdict\u001b[39m]] \u001b[38;5;241m=\u001b[39m \u001b[38;5;28;01mNone\u001b[39;00m, resource_group: \u001b[38;5;28mstr\u001b[39m \u001b[38;5;241m=\u001b[39m \u001b[38;5;28;01mNone\u001b[39;00m) \u001b[38;5;241m-\u001b[39m\u001b[38;5;241m>\u001b[39m \u001b[38;5;28mdict\u001b[39m:\n\u001b[1;32m     84\u001b[0m     \u001b[38;5;124;03m\"\"\"Sends a POST request to the server.\u001b[39;00m\n\u001b[1;32m     85\u001b[0m \n\u001b[1;32m     86\u001b[0m \u001b[38;5;124;03m    :param path: path of the endpoint the request should be sent to\u001b[39;00m\n\u001b[0;32m   (...)\u001b[0m\n\u001b[1;32m    106\u001b[0m \u001b[38;5;124;03m    :rtype: dict\u001b[39;00m\n\u001b[1;32m    107\u001b[0m \u001b[38;5;124;03m    \"\"\"\u001b[39;00m\n\u001b[0;32m--> 108\u001b[0m     \u001b[38;5;28;01mreturn\u001b[39;00m \u001b[38;5;28mself\u001b[39m\u001b[38;5;241m.\u001b[39m_handle_request(\u001b[38;5;124m'\u001b[39m\u001b[38;5;124mpost\u001b[39m\u001b[38;5;124m'\u001b[39m, path\u001b[38;5;241m=\u001b[39mpath, body_json\u001b[38;5;241m=\u001b[39mbody, resource_group\u001b[38;5;241m=\u001b[39mresource_group)\n",
                        "File \u001b[0;32m/opt/homebrew/lib/python3.11/site-packages/ai_api_client_sdk/helpers/rest_client.py:65\u001b[0m, in \u001b[0;36mRestClient._handle_request\u001b[0;34m(self, method, path, params, body_json, resource_group)\u001b[0m\n\u001b[1;32m     63\u001b[0m error_details \u001b[38;5;241m=\u001b[39m response_json[\u001b[38;5;124m'\u001b[39m\u001b[38;5;124merror\u001b[39m\u001b[38;5;124m'\u001b[39m]\u001b[38;5;241m.\u001b[39mget(\u001b[38;5;124m'\u001b[39m\u001b[38;5;124mdetails\u001b[39m\u001b[38;5;124m'\u001b[39m)\n\u001b[1;32m     64\u001b[0m \u001b[38;5;28;01mif\u001b[39;00m status_code \u001b[38;5;241m==\u001b[39m \u001b[38;5;241m400\u001b[39m:\n\u001b[0;32m---> 65\u001b[0m     \u001b[38;5;28;01mraise\u001b[39;00m AIAPIInvalidRequestException(description\u001b[38;5;241m=\u001b[39merror_description, error_message\u001b[38;5;241m=\u001b[39merror_message,\n\u001b[1;32m     66\u001b[0m                                        error_code\u001b[38;5;241m=\u001b[39merror_code, request_id\u001b[38;5;241m=\u001b[39mrequest_id, details\u001b[38;5;241m=\u001b[39merror_details)\n\u001b[1;32m     67\u001b[0m \u001b[38;5;28;01melif\u001b[39;00m status_code \u001b[38;5;241m==\u001b[39m \u001b[38;5;241m404\u001b[39m:\n\u001b[1;32m     68\u001b[0m     \u001b[38;5;28;01mraise\u001b[39;00m AIAPINotFoundException(description\u001b[38;5;241m=\u001b[39merror_description, error_message\u001b[38;5;241m=\u001b[39merror_message,\n\u001b[1;32m     69\u001b[0m                                  error_code\u001b[38;5;241m=\u001b[39merror_code, request_id\u001b[38;5;241m=\u001b[39mrequest_id, details\u001b[38;5;241m=\u001b[39merror_details)\n",
                        "\u001b[0;31mAIAPIInvalidRequestException\u001b[0m: Failed to post /admin/applications: {'applicationName': 'AICORE-INSPECTIONS', 'repositoryUrl': 'https://github.com/jcawley5/aicore-inspections', 'revision': 'HEAD', 'path': 'workflows'} is not valid under any of the given schemas"
                    ]
                }
            ],
            "source": [
                "app_json = setup_json[\"app\"]\n",
                "response = ai_api_client.rest_client.post(\n",
                "\t\tpath=\"/admin/applications\",\n",
                "\t\tbody={\n",
                "\t\t\t\t\"applicationName\": app_json[\"applicationName\"],\n",
                "\t\t\t\t\"repositoryUrl\": app_json[\"repositoryUrl\"],\n",
                "\t\t\t\t\"revision\": app_json[\"revision\"],\n",
                "\t\t\t\t\"path\": app_json[\"path\"]\n",
                "\t\t}\n",
                ")"
            ]
        },
        {
            "cell_type": "markdown",
            "metadata": {},
            "source": [
                "### Register docker secret"
            ]
        },
        {
            "cell_type": "code",
            "execution_count": 10,
            "metadata": {},
            "outputs": [
                {
                    "name": "stdout",
                    "output_type": "stream",
                    "text": [
                        "{'message': 'secret has been created'}\n"
                    ]
                }
            ],
            "source": [
                "with open(docker_secret_file_path) as dsf:\n",
                "    docker_secret = json.load(dsf)\n",
                "\n",
                "response = ai_api_client.rest_client.post(\n",
                "    path=\"/admin/dockerRegistrySecrets\",\n",
                "    body={\n",
                "        \"name\": docker_secret[\"name\"],\n",
                "        \"data\": docker_secret[\"data\"]\n",
                "    }\n",
                ")\n",
                "print(response)"
            ]
        },
        {
            "cell_type": "markdown",
            "metadata": {},
            "source": [
                "### Create a resource group"
            ]
        },
        {
            "cell_type": "code",
            "execution_count": 11,
            "metadata": {},
            "outputs": [
                {
                    "ename": "AIAPIServerException",
                    "evalue": "Failed to post /admin/resourceGroups: Resource Group cannot be created for free tier tenant",
                    "output_type": "error",
                    "traceback": [
                        "\u001b[0;31m---------------------------------------------------------------------------\u001b[0m",
                        "\u001b[0;31mAIAPIServerException\u001b[0m                      Traceback (most recent call last)",
                        "Cell \u001b[0;32mIn[11], line 1\u001b[0m\n\u001b[0;32m----> 1\u001b[0m ai_api_client\u001b[38;5;241m.\u001b[39mrest_client\u001b[38;5;241m.\u001b[39mpost(\n\u001b[1;32m      2\u001b[0m     path\u001b[38;5;241m=\u001b[39m\u001b[38;5;124m\"\u001b[39m\u001b[38;5;124m/admin/resourceGroups\u001b[39m\u001b[38;5;124m\"\u001b[39m,\n\u001b[1;32m      3\u001b[0m     body\u001b[38;5;241m=\u001b[39m{\n\u001b[1;32m      4\u001b[0m         \u001b[38;5;124m\"\u001b[39m\u001b[38;5;124mresourceGroupId\u001b[39m\u001b[38;5;124m\"\u001b[39m: resource_group\n\u001b[1;32m      5\u001b[0m     }\n\u001b[1;32m      6\u001b[0m )\n",
                        "File \u001b[0;32m/opt/homebrew/lib/python3.11/site-packages/ai_api_client_sdk/helpers/rest_client.py:108\u001b[0m, in \u001b[0;36mRestClient.post\u001b[0;34m(self, path, body, resource_group)\u001b[0m\n\u001b[1;32m     83\u001b[0m \u001b[38;5;28;01mdef\u001b[39;00m \u001b[38;5;21mpost\u001b[39m(\u001b[38;5;28mself\u001b[39m, path: \u001b[38;5;28mstr\u001b[39m, body: Dict[\u001b[38;5;28mstr\u001b[39m, Union[\u001b[38;5;28mstr\u001b[39m, \u001b[38;5;28mdict\u001b[39m]] \u001b[38;5;241m=\u001b[39m \u001b[38;5;28;01mNone\u001b[39;00m, resource_group: \u001b[38;5;28mstr\u001b[39m \u001b[38;5;241m=\u001b[39m \u001b[38;5;28;01mNone\u001b[39;00m) \u001b[38;5;241m-\u001b[39m\u001b[38;5;241m>\u001b[39m \u001b[38;5;28mdict\u001b[39m:\n\u001b[1;32m     84\u001b[0m     \u001b[38;5;124;03m\"\"\"Sends a POST request to the server.\u001b[39;00m\n\u001b[1;32m     85\u001b[0m \n\u001b[1;32m     86\u001b[0m \u001b[38;5;124;03m    :param path: path of the endpoint the request should be sent to\u001b[39;00m\n\u001b[0;32m   (...)\u001b[0m\n\u001b[1;32m    106\u001b[0m \u001b[38;5;124;03m    :rtype: dict\u001b[39;00m\n\u001b[1;32m    107\u001b[0m \u001b[38;5;124;03m    \"\"\"\u001b[39;00m\n\u001b[0;32m--> 108\u001b[0m     \u001b[38;5;28;01mreturn\u001b[39;00m \u001b[38;5;28mself\u001b[39m\u001b[38;5;241m.\u001b[39m_handle_request(\u001b[38;5;124m'\u001b[39m\u001b[38;5;124mpost\u001b[39m\u001b[38;5;124m'\u001b[39m, path\u001b[38;5;241m=\u001b[39mpath, body_json\u001b[38;5;241m=\u001b[39mbody, resource_group\u001b[38;5;241m=\u001b[39mresource_group)\n",
                        "File \u001b[0;32m/opt/homebrew/lib/python3.11/site-packages/ai_api_client_sdk/helpers/rest_client.py:75\u001b[0m, in \u001b[0;36mRestClient._handle_request\u001b[0;34m(self, method, path, params, body_json, resource_group)\u001b[0m\n\u001b[1;32m     71\u001b[0m         \u001b[38;5;28;01mraise\u001b[39;00m AIAPIPreconditionFailedException(description\u001b[38;5;241m=\u001b[39merror_description, error_message\u001b[38;5;241m=\u001b[39merror_message,\n\u001b[1;32m     72\u001b[0m                                                error_code\u001b[38;5;241m=\u001b[39merror_code, request_id\u001b[38;5;241m=\u001b[39mrequest_id,\n\u001b[1;32m     73\u001b[0m                                                details\u001b[38;5;241m=\u001b[39merror_details)\n\u001b[1;32m     74\u001b[0m     \u001b[38;5;28;01melse\u001b[39;00m:\n\u001b[0;32m---> 75\u001b[0m         \u001b[38;5;28;01mraise\u001b[39;00m AIAPIServerException(status_code\u001b[38;5;241m=\u001b[39mstatus_code, description\u001b[38;5;241m=\u001b[39merror_description,\n\u001b[1;32m     76\u001b[0m                                    error_message\u001b[38;5;241m=\u001b[39merror_message, error_code\u001b[38;5;241m=\u001b[39merror_code, request_id\u001b[38;5;241m=\u001b[39mrequest_id,\n\u001b[1;32m     77\u001b[0m                                    details\u001b[38;5;241m=\u001b[39merror_details)\n\u001b[1;32m     78\u001b[0m \u001b[38;5;28;01melif\u001b[39;00m response\u001b[38;5;241m.\u001b[39mstatus_code \u001b[38;5;241m/\u001b[39m\u001b[38;5;241m/\u001b[39m \u001b[38;5;241m100\u001b[39m \u001b[38;5;241m!=\u001b[39m \u001b[38;5;241m2\u001b[39m:\n\u001b[1;32m     79\u001b[0m     \u001b[38;5;28;01mraise\u001b[39;00m AIAPIServerException(description\u001b[38;5;241m=\u001b[39merror_description, error_message\u001b[38;5;241m=\u001b[39mresponse\u001b[38;5;241m.\u001b[39mtext,\n\u001b[1;32m     80\u001b[0m                                status_code\u001b[38;5;241m=\u001b[39mresponse\u001b[38;5;241m.\u001b[39mstatus_code)\n",
                        "\u001b[0;31mAIAPIServerException\u001b[0m: Failed to post /admin/resourceGroups: Resource Group cannot be created for free tier tenant"
                    ]
                }
            ],
            "source": [
                "ai_api_client.rest_client.post(\n",
                "    path=\"/admin/resourceGroups\",\n",
                "    body={\n",
                "        \"resourceGroupId\": resource_group\n",
                "    }\n",
                ")"
            ]
        },
        {
            "cell_type": "markdown",
            "metadata": {},
            "source": [
                "TRAINING DATASET NEEDS TO BE UPLOADED TO AMAZON S3 SEPARATELY, FOR EXAMPLE VIA AWS CLI.  \n",
                "See: https://developers.sap.com/tutorials/ai-core-aiapi-clientsdk-resources.html#45dcbe5b-a94f-461e-b9eb-54f2d965e930\n",
                "\n",
                "### Register secret to access dataset in Amazon S3 and create resource group"
            ]
        },
        {
            "cell_type": "code",
            "execution_count": 13,
            "metadata": {},
            "outputs": [
                {
                    "data": {
                        "text/plain": [
                            "{'message': 'secret has been created'}"
                        ]
                    },
                    "execution_count": 13,
                    "metadata": {},
                    "output_type": "execute_result"
                }
            ],
            "source": [
                "with open(s3_service_key_path) as s3sk:\n",
                "    s3_service_key = json.load(s3sk)\n",
                "\n",
                "default_secret = {\n",
                "    \"name\": connection_name, # Name of the connection.\n",
                "    \"type\": \"S3\",\n",
                "    \"endpoint\": s3_service_key[\"host\"],\n",
                "    \"bucket\": s3_service_key[\"bucket\"],\n",
                "    \"pathPrefix\": path_prefix,\n",
                "    \"region\": s3_service_key[\"region\"],\n",
                "    \"data\": {\n",
                "        \"AWS_ACCESS_KEY_ID\": s3_service_key[\"access_key_id\"],\n",
                "        \"AWS_SECRET_ACCESS_KEY\": s3_service_key[\"secret_access_key\"]\n",
                "    }\n",
                "}\n",
                "\n",
                "ai_api_client.rest_client.post(\n",
                "    path=\"/admin/objectStoreSecrets\",\n",
                "    body = default_secret,\n",
                "    resource_group = \"default\"\n",
                ")"
            ]
        },
        {
            "cell_type": "markdown",
            "metadata": {},
            "source": [
                "DOCKER IMAGES STORED IN code/train AND code/infer NEED TO BE BUILT AND PUSHED TO DOCKER HUB\n",
                "THROUGH THE DOCKER CLI.  \n",
                "See: https://developers.sap.com/tutorials/ai-core-aiapi-clientsdk-workflows.html#f824a41d-efe8-4883-8238-caef4ac5f789"
            ]
        },
        {
            "cell_type": "code",
            "execution_count": 26,
            "metadata": {},
            "outputs": [],
            "source": [
                "# Create another AI API client to use different base url.\n",
                "ai_api_v2_client = AIAPIV2Client(\n",
                "    base_url=aic_service_key[\"serviceurls\"][\"AI_API_URL\"] + \"/v2/lm\",\n",
                "    auth_url=aic_service_key[\"url\"] + \"/oauth/token\",\n",
                "    client_id=aic_service_key['clientid'],\n",
                "    client_secret=aic_service_key['clientsecret'],\n",
                "    resource_group=\"default\")"
            ]
        },
        {
            "cell_type": "markdown",
            "metadata": {},
            "source": [
                "### Register training data as artifact"
            ]
        },
        {
            "cell_type": "code",
            "execution_count": 27,
            "metadata": {},
            "outputs": [
                {
                    "name": "stdout",
                    "output_type": "stream",
                    "text": [
                        "Artifacts registered for inspection-mo-regression-scenario scenario!\n",
                        "{'id': '0547893d-1111-4149-9319-f18b99c5b91e',\n",
                        " 'message': 'Artifact acknowledged',\n",
                        " 'url': 'ai://default/data'}\n"
                    ]
                }
            ],
            "source": [
                "with open(training_workflow_file) as twf:\n",
                "    training_workflow = yaml.safe_load(twf)\n",
                "\n",
                "scenario_id = training_workflow['metadata']['labels']['scenarios.ai.sap.com/id']\n",
                "\n",
                "\n",
                "# Set the artifact configuration.\n",
                "artifact = {\n",
                "        \"name\": resource_group, # Modifiable name\n",
                "        \"kind\": Artifact.Kind.DATASET,\n",
                "        # Path has to contain the connection name used above for the AWS S3 bucket.\n",
                "        \"url\": f\"ai://{connection_name}/data\",\n",
                "        \"description\": \"The training data set.\",\n",
                "        \"scenario_id\": scenario_id\n",
                "}\n",
                "\n",
                "artifact_resp = ai_api_v2_client.artifact.create(**artifact)\n",
                "print(f\"Artifacts registered for {scenario_id} scenario!\")\n",
                "pprint(vars(artifact_resp)) \n",
                "\n",
                "assert artifact_resp.message == 'Artifact acknowledged'"
            ]
        },
        {
            "cell_type": "markdown",
            "metadata": {},
            "source": [
                "### Create Training Configuration"
            ]
        },
        {
            "cell_type": "code",
            "execution_count": 28,
            "metadata": {},
            "outputs": [
                {
                    "name": "stdout",
                    "output_type": "stream",
                    "text": [
                        "{'id': '68576d51-7f69-4862-8f54-bc50ecdb6a49',\n",
                        " 'message': 'Configuration created'}\n",
                        "Configuration created for running the training\n"
                    ]
                }
            ],
            "source": [
                "input_artifact_name = training_workflow['spec']['templates'][0]['inputs']['artifacts'][0]['name']\n",
                "executable_name = training_workflow['metadata']['name']\n",
                "\n",
                "artifact_binding = {\n",
                "    \"key\": input_artifact_name,\n",
                "    \"artifact_id\": artifact_resp.id\n",
                "}\n",
                "\n",
                "train_configuration = {\n",
                "    \"name\": resource_group,\n",
                "    \"scenario_id\": scenario_id,\n",
                "    \"executable_id\": executable_name,\n",
                "    \"parameter_bindings\": [],\n",
                "    \"input_artifact_bindings\": [ InputArtifactBinding(**artifact_binding) ]\n",
                "}\n",
                "\n",
                "train_config_resp = ai_api_v2_client.configuration.create(**train_configuration)\n",
                "pprint(vars(train_config_resp))\n",
                "\n",
                "assert train_config_resp.message == 'Configuration created'\n",
                "\n",
                "print(\"Configuration created for running the training\")"
            ]
        },
        {
            "cell_type": "markdown",
            "metadata": {},
            "source": [
                "### Training Execution"
            ]
        },
        {
            "cell_type": "code",
            "execution_count": 29,
            "metadata": {},
            "outputs": [
                {
                    "name": "stdout",
                    "output_type": "stream",
                    "text": [
                        "...... execution status ......\n",
                        "Training status: Status.RUNNING\n",
                        "Training status details: {'details': [{'container_name': 'main', 'exit_code': '', 'last_log_messages': 'Error pulling container main logs', 'message': 'Failed to apply default image tag \"<DOCKER-IMAGE-REPO>\": couldn\\'t parse image reference \"<DOCKER-IMAGE-REPO>\": invalid reference format: repository name must be lowercase', 'pod_name': 'ec1ada113663aaa0', 'ready': False}, {'container_name': 'wait', 'exit_code': '', 'last_log_messages': 'tCommit:1253f443baa8ad1610d2e62ec26ecdc85fe1b837,GitTag:***,GitTreeState:clean,GoVersion:***,Compiler:gc,Platform:linux/amd64,}\"time=\"2023-12-23T01:25:***\" level=info msg=\"Starting deadline monitor\"...', 'message': '', 'pod_name': 'ec1ada113663aaa0', 'ready': True}], 'workflow_info': [{'exit_code': '', 'id': 'ec1ada113663aaa0', 'message': 'InvalidImageName: Failed to apply default image tag \"<DOCKER-IMAGE-REPO>\": couldn\\'t parse image reference \"<DOCKER-IMAGE-REPO>\": invalid reference format: repository name must be lowercase', 'name': 'ec1ada113663aaa0', 'outputs': '', 'phase': 'Pending', 'type': 'Pod'}]}\n"
                    ]
                }
            ],
            "source": [
                "execution_resp = ai_api_v2_client.execution.create(train_config_resp.id)\n",
                "pprint(vars(execution_resp))\n",
                "\n",
                "status = None\n",
                "# Wait until training finished.\n",
                "while status != Status.COMPLETED and status != Status.DEAD:\n",
                "    # Sleep for 5 secs to avoid overwhelming the API with requests.\n",
                "    time.sleep(5)\n",
                "    # Clear outputs to reduce clutter.\n",
                "    clear_output(wait=True)\n",
                "\n",
                "    execution = ai_api_v2_client.execution.get(execution_resp.id)\n",
                "    status = execution.status\n",
                "    print('...... execution status ......', flush=True)\n",
                "    print(f\"Training status: {execution.status}\")\n",
                "    print(f\"Training status details: {execution.status_details}\")\n",
                "\n",
                "\n",
                "if execution.status == Status.COMPLETED:\n",
                "    print(f\"Training complete for execution [{execution_resp.id}]!\")\n",
                "    output_artifact = execution.output_artifacts[0]\n",
                "    output = {\n",
                "        \"id\": output_artifact.id,\n",
                "        \"name\": output_artifact.name,\n",
                "        \"url\": output_artifact.url\n",
                "    }\n",
                "    with open('../training_output.json', 'w') as fp:\n",
                "        json.dump(output, fp)"
            ]
        },
        {
            "cell_type": "markdown",
            "metadata": {},
            "source": [
                "### Create configuration to serve the model"
            ]
        },
        {
            "cell_type": "code",
            "execution_count": 149,
            "metadata": {},
            "outputs": [
                {
                    "name": "stdout",
                    "output_type": "stream",
                    "text": [
                        "{'id': '089efc03-6b0a-41ec-b799-fb822bdb40e0',\n",
                        " 'message': 'Configuration created'}\n",
                        "configuration for serving the model created\n"
                    ]
                }
            ],
            "source": [
                "with open(serving_workflow_file) as swf:\n",
                "    serving_workflow = yaml.safe_load(swf)\n",
                "\n",
                "scenario_id = serving_workflow['metadata']['labels']['scenarios.ai.sap.com/id']\n",
                "input_artifact_name = serving_workflow['spec']['inputs']['artifacts'][0]['name']\n",
                "executable_name = serving_workflow['metadata']['name']\n",
                "\n",
                "training_output = '../training_output.json'\n",
                "with open(training_output) as to:\n",
                "    serving_input = json.load(to)\n",
                "\n",
                "artifact_binding = {\n",
                "    \"key\": input_artifact_name,\n",
                "    \"artifact_id\": serving_input[\"id\"]\n",
                "}\n",
                "\n",
                "serve_configuration = {\n",
                "    \"name\": f\"{resource_group}-serve\",\n",
                "    \"scenario_id\": scenario_id,\n",
                "    \"executable_id\": executable_name,\n",
                "    \"parameter_bindings\": [],\n",
                "    \"input_artifact_bindings\": [ InputArtifactBinding(**artifact_binding) ]\n",
                "}\n",
                "\n",
                "serve_config_resp = ai_api_v2_client.configuration.create(**serve_configuration)\n",
                "\n",
                "assert serve_config_resp.message == 'Configuration created'\n",
                "\n",
                "pprint(vars(serve_config_resp))\n",
                "print(\"configuration for serving the model created\")"
            ]
        },
        {
            "cell_type": "markdown",
            "metadata": {},
            "source": [
                "### Actually serve/deploy the model"
            ]
        },
        {
            "cell_type": "code",
            "execution_count": 150,
            "metadata": {},
            "outputs": [
                {
                    "name": "stdout",
                    "output_type": "stream",
                    "text": [
                        "...... deployment status ......\n",
                        "Status.RUNNING\n",
                        "None\n",
                        "Deployment with d31b5360276c2443 complete!\n"
                    ]
                }
            ],
            "source": [
                "deployment_resp = ai_api_v2_client.deployment.create(serve_config_resp.id)\n",
                "pprint(vars(deployment_resp))\n",
                "\n",
                "# Poll deployment status.\n",
                "status = None\n",
                "while status != Status.RUNNING and status != Status.DEAD:\n",
                "    time.sleep(5)\n",
                "    clear_output(wait=True)\n",
                "    deployment = ai_api_v2_client.deployment.get(deployment_resp.id)\n",
                "    status = deployment.status\n",
                "    print('...... deployment status ......', flush=True)\n",
                "    print(deployment.status)\n",
                "    pprint(deployment.status_details)\n",
                "\n",
                "    if deployment.status == Status.RUNNING:\n",
                "        print(f\"Deployment with {deployment_resp.id} complete!\")\n",
                "\n",
                "# Allow some time for deployment URL to get ready.\n",
                "time.sleep(10)"
            ]
        },
        {
            "cell_type": "markdown",
            "metadata": {},
            "source": [
                "### Do an inference request"
            ]
        },
        {
            "cell_type": "code",
            "execution_count": 151,
            "metadata": {},
            "outputs": [
                {
                    "name": "stdout",
                    "output_type": "stream",
                    "text": [
                        "Inference result: {'predictions': [[87.89493892895823, 51.28017265137158], [88.49765829031011, 58.17775078637164]]}\n",
                        "{'_content': b'{\"predictions\":[[87.89493892895823,51.28017265137158],[88.497658'\n",
                        "             b'29031011,58.17775078637164]]}\\n',\n",
                        " '_content_consumed': True,\n",
                        " '_next': None,\n",
                        " 'connection': <requests.adapters.HTTPAdapter object at 0x7f7a00f59b50>,\n",
                        " 'cookies': <RequestsCookieJar[]>,\n",
                        " 'elapsed': datetime.timedelta(microseconds=312137),\n",
                        " 'encoding': 'utf-8',\n",
                        " 'headers': {'content-length': '94', 'content-type': 'application/json', 'date': 'Fri, 15 Jul 2022 10:58:48 GMT', 'server': 'istio-envoy', 'x-envoy-upstream-service-time': '106'},\n",
                        " 'history': [],\n",
                        " 'raw': <urllib3.response.HTTPResponse object at 0x7f7998306730>,\n",
                        " 'reason': 'OK',\n",
                        " 'request': <PreparedRequest [POST]>,\n",
                        " 'status_code': 200,\n",
                        " 'url': 'https://api.ai.prod.eu-central-1.aws.ml.hana.ondemand.com/v2/inference/deployments/d31b5360276c2443/v1/models/restaurant-inspections:predict'}\n"
                    ]
                }
            ],
            "source": [
                "body = { \n",
                "    \"payload\": [\n",
                "        {\n",
                "            \"business_postal_code\": \"94102\",\n",
                "            \"violation_description\": \"Unapproved or unmaintained equipment or utensils. Moderate risk food holding temperature. Noncompliance with HAACP plan or variance. Inadequate food safety knowledge or lack of certified food safety manager.\"\n",
                "        },\n",
                "        {\n",
                "            \"business_postal_code\": \"94102\",\n",
                "            \"violation_description\": \"Moderate risk food holding temperature. Noncompliance with HAACP plan or variance. Inadequate food safety knowledge or lack of certified food safety manager.\"\n",
                "        }\n",
                "    ]\n",
                "}\n",
                "\n",
                "endpoint = f\"{deployment.deployment_url}/v1/models/{resource_group}:predict\"\n",
                "headers = {\"Authorization\": ai_api_v2_client.rest_client.get_token(),\n",
                "           'ai-resource-group': resource_group,\n",
                "           \"Content-Type\": \"application/json\"}\n",
                "response = requests.post(endpoint, headers=headers, json=body)\n",
                "\n",
                "print('Inference result:', response.json())\n",
                "pprint(vars(response))"
            ]
        },
        {
            "cell_type": "markdown",
            "metadata": {},
            "source": [
                "### Kill deployment"
            ]
        },
        {
            "cell_type": "code",
            "execution_count": null,
            "metadata": {},
            "outputs": [],
            "source": [
                "delete_resp = ai_api_v2_client.deployment.modify(deployment_resp.id,\n",
                "                                                 target_status=TargetStatus.STOPPED)\n",
                "status = None\n",
                "while status != Status.STOPPED:\n",
                "    time.sleep(5)\n",
                "    clear_output(wait=True)\n",
                "    deployment = ai_api_v2_client.deployment.get(deployment_resp.id)\n",
                "    status = deployment.status\n",
                "    print('...... killing deployment ......', flush=True)\n",
                "    print(f\"Deployment status: {deployment.status}\")"
            ]
        }
    ],
    "metadata": {
        "kernelspec": {
            "display_name": "Python 3.9.12 64-bit ('qatar-dc')",
            "language": "python",
            "name": "python3"
        },
        "language_info": {
            "codemirror_mode": {
                "name": "ipython",
                "version": 3
            },
            "file_extension": ".py",
            "mimetype": "text/x-python",
            "name": "python",
            "nbconvert_exporter": "python",
            "pygments_lexer": "ipython3",
            "version": "3.11.6"
        },
        "orig_nbformat": 4,
        "vscode": {
            "interpreter": {
                "hash": "2085f17269cc5f0a92df58c5bfe5feeff635fac6ffe4f10f1dcbff18e129c4ed"
            }
        }
    },
    "nbformat": 4,
    "nbformat_minor": 2
}
